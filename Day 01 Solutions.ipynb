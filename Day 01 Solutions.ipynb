{
 "cells": [
  {
   "cell_type": "markdown",
   "metadata": {},
   "source": [
    "## Part 1"
   ]
  },
  {
   "cell_type": "code",
   "execution_count": 64,
   "metadata": {},
   "outputs": [
    {
     "name": "stdout",
     "output_type": "stream",
     "text": [
      "[1728, 1954, 1850, 1825, 1732, 1536, 1759, 1877, 1400, 1579]\n"
     ]
    }
   ],
   "source": [
    "with open ('input.txt', 'r') as f:\n",
    "    content = [int(x) for x in f.readlines()]\n",
    "    \n",
    "print(content[:10])"
   ]
  },
  {
   "cell_type": "code",
   "execution_count": 95,
   "metadata": {
    "scrolled": true
   },
   "outputs": [
    {
     "name": "stdout",
     "output_type": "stream",
     "text": [
      "19900\n",
      "\n",
      "[(1728, 1954), (1728, 1850), (1728, 1825), (1728, 1732), (1728, 1536), (1728, 1759), (1728, 1877), (1728, 1400), (1728, 1579), (1728, 1708)]\n"
     ]
    }
   ],
   "source": [
    "from itertools import *\n",
    "pairs = list(combinations(content,2))\n",
    "m = len(pairs)\n",
    "\n",
    "print(m)\n",
    "print('')\n",
    "print(pairs[:10])"
   ]
  },
  {
   "cell_type": "code",
   "execution_count": 96,
   "metadata": {
    "scrolled": true
   },
   "outputs": [
    {
     "name": "stdout",
     "output_type": "stream",
     "text": [
      "(215, 1805)\n",
      "\n",
      "388075\n"
     ]
    }
   ],
   "source": [
    "for i in range(0,m):  #check sum of tuples\n",
    "    if sum(pairs[i]) == 2020: \n",
    "        print(pairs[i])\n",
    "        product = pairs[i][0] * pairs[i][1]\n",
    "        print('')\n",
    "        print(product)"
   ]
  },
  {
   "cell_type": "markdown",
   "metadata": {},
   "source": [
    "## Part 2"
   ]
  },
  {
   "cell_type": "code",
   "execution_count": 98,
   "metadata": {},
   "outputs": [
    {
     "name": "stdout",
     "output_type": "stream",
     "text": [
      "1313400\n",
      "\n",
      "[(1728, 1954, 1850), (1728, 1954, 1825), (1728, 1954, 1732), (1728, 1954, 1536), (1728, 1954, 1759), (1728, 1954, 1877), (1728, 1954, 1400), (1728, 1954, 1579), (1728, 1954, 1708), (1728, 1954, 1047)]\n"
     ]
    }
   ],
   "source": [
    "triplets = list(combinations(content,3))\n",
    "m = len(triplets)\n",
    "\n",
    "print(m)\n",
    "print('')\n",
    "print(triplets[:10])"
   ]
  },
  {
   "cell_type": "code",
   "execution_count": 99,
   "metadata": {
    "scrolled": true
   },
   "outputs": [
    {
     "name": "stdout",
     "output_type": "stream",
     "text": [
      "(558, 823, 639)\n",
      "\n",
      "293450526\n"
     ]
    }
   ],
   "source": [
    "for i in range(0,m):  #check sum of tuples\n",
    "    if sum(triplets[i]) == 2020: \n",
    "        print(triplets[i])\n",
    "        product = triplets[i][0] * triplets[i][1] * triplets[i][2]\n",
    "        print('')\n",
    "        print(product)"
   ]
  },
  {
   "cell_type": "code",
   "execution_count": null,
   "metadata": {},
   "outputs": [],
   "source": []
  }
 ],
 "metadata": {
  "kernelspec": {
   "display_name": "Python 3",
   "language": "python",
   "name": "python3"
  },
  "language_info": {
   "codemirror_mode": {
    "name": "ipython",
    "version": 3
   },
   "file_extension": ".py",
   "mimetype": "text/x-python",
   "name": "python",
   "nbconvert_exporter": "python",
   "pygments_lexer": "ipython3",
   "version": "3.7.6"
  }
 },
 "nbformat": 4,
 "nbformat_minor": 4
}
