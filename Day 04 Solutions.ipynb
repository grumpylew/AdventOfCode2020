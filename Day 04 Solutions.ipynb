{
 "cells": [
  {
   "cell_type": "code",
   "execution_count": 3,
   "metadata": {},
   "outputs": [],
   "source": [
    "split_input1 = open('input.txt').read().split(sep = '\\n\\n')"
   ]
  },
  {
   "cell_type": "code",
   "execution_count": 4,
   "metadata": {},
   "outputs": [
    {
     "name": "stdout",
     "output_type": "stream",
     "text": [
      "[['eyr:2021', 'hgt:168cm', 'hcl:#fffffd', 'pid:180778832', 'byr:1923', 'ecl:amb', 'iyr:2019', 'cid:241']]\n"
     ]
    }
   ],
   "source": [
    "#only IF cid is missing =  valid, thus all other conditions need to be met. \n",
    "required_fields = ['byr', 'iyr', 'eyr', 'hgt', 'hcl', 'ecl', 'pid']\n",
    "\n",
    "split_input2 = [string.replace('\\n',\" \") for string in split_input1]\n",
    "split_input3 = [string.split(' ') for string in split_input2]\n",
    "\n",
    "print(split_input3[:1])"
   ]
  },
  {
   "cell_type": "code",
   "execution_count": 5,
   "metadata": {},
   "outputs": [
    {
     "name": "stdout",
     "output_type": "stream",
     "text": [
      "[{'eyr': '2021', 'hgt': '168cm', 'hcl': '#fffffd', 'pid': '180778832', 'byr': '1923', 'ecl': 'amb', 'iyr': '2019', 'cid': '241'}]\n"
     ]
    }
   ],
   "source": [
    "def dictionary_converter(input_list):\n",
    "    dictionary = {}\n",
    "\n",
    "    for item in input_list:\n",
    "        temp = item.split(':')\n",
    "        key = temp[0]\n",
    "        value = temp[-1]\n",
    "        dictionary[key] = value\n",
    "        \n",
    "    return dictionary #gets out of function and gives u the object u want\n",
    "\n",
    "edited_list = [dictionary_converter(item) for item in split_input3]\n",
    "print(edited_list[:1])"
   ]
  },
  {
   "cell_type": "code",
   "execution_count": 19,
   "metadata": {},
   "outputs": [
    {
     "name": "stdout",
     "output_type": "stream",
     "text": [
      "260\n"
     ]
    }
   ],
   "source": [
    "valid_passports = []\n",
    "\n",
    "for passports in edited_list:\n",
    "    count = 0\n",
    "    for key,value in passports.items():\n",
    "        if key in required_fields:\n",
    "            count += 1\n",
    "            if count == 7:\n",
    "                valid_passports.append(passports)\n",
    "        \n",
    "        \n",
    "print(len(valid_passports)) \n"
   ]
  },
  {
   "cell_type": "code",
   "execution_count": 20,
   "metadata": {},
   "outputs": [
    {
     "name": "stdout",
     "output_type": "stream",
     "text": [
      "153\n"
     ]
    }
   ],
   "source": [
    "present_valid_passports = []\n",
    "\n",
    "for passports in edited_list:\n",
    "    count = 0\n",
    "    for key,value in passports.items():\n",
    "        if key == 'byr' and (1920 <= int(value) <= 2002):\n",
    "            count += 1\n",
    "        if key == 'iyr' and (2010 <= int(value) <= 2020):\n",
    "            count += 1\n",
    "        if key == 'eyr' and (2020 <= int(value) <= 2030):\n",
    "            count += 1\n",
    "        if key == 'hgt':\n",
    "            if value[-2:] == 'cm':\n",
    "                temp = value.split('cm')\n",
    "                if 150 <= int(temp[0]) <=193:\n",
    "                    count +=1\n",
    "            elif value[-2:] == 'in':\n",
    "                temp = value.split('in')\n",
    "                if 59 <= int(temp[0]) <= 76:\n",
    "                    count +=1\n",
    "        if key == 'hcl':\n",
    "            six = 0\n",
    "            if value[0] == '#' and len(value) == 7:\n",
    "                new_value = value[1:7].lower()\n",
    "                for i in new_value:\n",
    "                    if i in \"0123456789abcdef\":\n",
    "                        six +=1\n",
    "                        if six == 6:\n",
    "                            count +=1            \n",
    "        if key == 'ecl':\n",
    "            if value in ['amb','blu', 'brn','gry','grn','hzl','oth']:\n",
    "                count +=1\n",
    "        if key == 'pid':\n",
    "            if len(value) == 9:\n",
    "                digits = 0\n",
    "                for i in value:\n",
    "                    if i in '0123456789':\n",
    "                        digits +=1\n",
    "                        if digits ==9:\n",
    "                            count+=1\n",
    "    if count == 7:\n",
    "        present_valid_passports.append(passports)\n",
    "        \n",
    "print(len(present_valid_passports))"
   ]
  },
  {
   "cell_type": "code",
   "execution_count": null,
   "metadata": {},
   "outputs": [],
   "source": []
  }
 ],
 "metadata": {
  "kernelspec": {
   "display_name": "Python 3",
   "language": "python",
   "name": "python3"
  },
  "language_info": {
   "codemirror_mode": {
    "name": "ipython",
    "version": 3
   },
   "file_extension": ".py",
   "mimetype": "text/x-python",
   "name": "python",
   "nbconvert_exporter": "python",
   "pygments_lexer": "ipython3",
   "version": "3.7.6"
  }
 },
 "nbformat": 4,
 "nbformat_minor": 4
}
