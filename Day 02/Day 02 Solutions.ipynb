{
 "cells": [
  {
   "cell_type": "markdown",
   "metadata": {},
   "source": [
    "## Part 1"
   ]
  },
  {
   "cell_type": "code",
   "execution_count": 84,
   "metadata": {
    "scrolled": true
   },
   "outputs": [
    {
     "name": "stdout",
     "output_type": "stream",
     "text": [
      "[['1-4', 'n:', 'nnnnn'], ['5-7', 'z:', 'qhcgzzz'], ['7-11', 'm:', 'mmmmmmsmmmmm'], ['5-8', 'd:', 'ldddtdgnzddddwl'], ['16-18', 'q:', 'qsqqqqqqqqqpqqqlqhq']]\n"
     ]
    }
   ],
   "source": [
    "with open ('input.txt', 'r') as f:\n",
    "    input = []\n",
    "    for line in f.readlines():\n",
    "        line = line.strip()   #strips off \\n whitespace\n",
    "        input.append(line)\n",
    "        \n",
    "input_split = []\n",
    "for line in input:\n",
    "    line_split = line.split(sep=\" \", maxsplit = 2)  #splits by space\n",
    "    input_split.append(line_split)\n",
    "                       \n",
    "print(input_split[:5])"
   ]
  },
  {
   "cell_type": "code",
   "execution_count": 63,
   "metadata": {},
   "outputs": [
    {
     "name": "stdout",
     "output_type": "stream",
     "text": [
      "[{'min': 1, 'max': 4, 'char': 'n', 'password': 'nnnnn'}, {'min': 5, 'max': 7, 'char': 'z', 'password': 'qhcgzzz'}, {'min': 7, 'max': 11, 'char': 'm', 'password': 'mmmmmmsmmmmm'}, {'min': 5, 'max': 8, 'char': 'd', 'password': 'ldddtdgnzddddwl'}, {'min': 16, 'max': 18, 'char': 'q', 'password': 'qsqqqqqqqqqpqqqlqhq'}]\n"
     ]
    }
   ],
   "source": [
    "total_set = []\n",
    "\n",
    "for line in input_split:\n",
    "    one_set = {}   #store each set of values in a dict\n",
    "    min_max = line[0].split(sep = \"-\") #separate the min/max values\n",
    "    one_set['min'] = int(min_max[0])\n",
    "    one_set['max'] = int(min_max[1])\n",
    "    one_set['char'] = line[1][0]  #removes the colon\n",
    "    one_set['password'] = line[2]\n",
    "    total_set.append(one_set)     #add each set into a list for easy access\n",
    "    \n",
    "print(total_set[:5])"
   ]
  },
  {
   "cell_type": "code",
   "execution_count": 85,
   "metadata": {},
   "outputs": [
    {
     "name": "stdout",
     "output_type": "stream",
     "text": [
      "456\n"
     ]
    }
   ],
   "source": [
    "count = 0\n",
    "for line in total_set:\n",
    "    if line['char'] in line['password']:    \n",
    "        occurance = line['password'].count(line['char'])\n",
    "        if occurance <= line['max'] and occurance >= line['min']:\n",
    "            count += 1\n",
    "print(count)"
   ]
  },
  {
   "cell_type": "markdown",
   "metadata": {},
   "source": [
    "## Part 2"
   ]
  },
  {
   "cell_type": "code",
   "execution_count": 118,
   "metadata": {},
   "outputs": [
    {
     "name": "stdout",
     "output_type": "stream",
     "text": [
      "308\n"
     ]
    }
   ],
   "source": [
    "count = 0\n",
    "\n",
    "for line in total_set:\n",
    "    PASS = line['password']\n",
    "    position1 = line['min']\n",
    "    position2 = line['max']\n",
    "    key_word = line['char']\n",
    "\n",
    "    for letter in PASS:\n",
    "        if PASS[position1-1] == key_word and PASS[position2-1] != key_word:\n",
    "            count +=1\n",
    "            break\n",
    "        elif PASS[position1-1] != key_word and PASS[position2-1] == key_word:\n",
    "            count +=1\n",
    "            break\n",
    "    \n",
    "print(count)"
   ]
  },
  {
   "cell_type": "code",
   "execution_count": null,
   "metadata": {},
   "outputs": [],
   "source": []
  }
 ],
 "metadata": {
  "kernelspec": {
   "display_name": "Python 3",
   "language": "python",
   "name": "python3"
  },
  "language_info": {
   "codemirror_mode": {
    "name": "ipython",
    "version": 3
   },
   "file_extension": ".py",
   "mimetype": "text/x-python",
   "name": "python",
   "nbconvert_exporter": "python",
   "pygments_lexer": "ipython3",
   "version": "3.7.6"
  }
 },
 "nbformat": 4,
 "nbformat_minor": 4
}
