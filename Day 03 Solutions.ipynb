{
 "cells": [
  {
   "cell_type": "code",
   "execution_count": 338,
   "metadata": {},
   "outputs": [],
   "source": [
    "file = open(\"input.txt\").read().splitlines()\n",
    "hill = []\n",
    "\n",
    "for i in file: \n",
    "    extend = i*100              #code repeats 100x for each of the 323 rows\n",
    "    hill.append(extend)         #appending to list\n",
    "\n",
    "\n",
    "def treeslammer(down, right):\n",
    "    counter = 0\n",
    "    y = right\n",
    "    for i in hill[down::down]:   #for each line in hill, starts at line = down and skip in denominations of down\n",
    "        if i[y] == \"#\":          #check whether the yth index of each line = #\n",
    "            counter +=1          #if so add 1 to counter\n",
    "        y += right               #adds a multiple of 'right', for the next line to use as an index\n",
    "    return counter               #returns a value when for loop is completed\n",
    "    "
   ]
  },
  {
   "cell_type": "code",
   "execution_count": 318,
   "metadata": {},
   "outputs": [
    {
     "data": {
      "text/plain": [
       "159"
      ]
     },
     "execution_count": 318,
     "metadata": {},
     "output_type": "execute_result"
    }
   ],
   "source": [
    "treeslammer(1,3)"
   ]
  },
  {
   "cell_type": "code",
   "execution_count": 317,
   "metadata": {},
   "outputs": [
    {
     "data": {
      "text/plain": [
       "6419669520"
      ]
     },
     "execution_count": 317,
     "metadata": {},
     "output_type": "execute_result"
    }
   ],
   "source": [
    "treeslammer(1,3) * (treeslammer(1,1) * treeslammer(1,5) * treeslammer(1,7) * treeslammer(2,1))"
   ]
  },
  {
   "cell_type": "code",
   "execution_count": null,
   "metadata": {},
   "outputs": [],
   "source": []
  }
 ],
 "metadata": {
  "kernelspec": {
   "display_name": "Python 3",
   "language": "python",
   "name": "python3"
  },
  "language_info": {
   "codemirror_mode": {
    "name": "ipython",
    "version": 3
   },
   "file_extension": ".py",
   "mimetype": "text/x-python",
   "name": "python",
   "nbconvert_exporter": "python",
   "pygments_lexer": "ipython3",
   "version": "3.7.6"
  }
 },
 "nbformat": 4,
 "nbformat_minor": 4
}
